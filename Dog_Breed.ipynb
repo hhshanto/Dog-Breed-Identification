{
  "nbformat": 4,
  "nbformat_minor": 0,
  "metadata": {
    "kernelspec": {
      "display_name": "Python 3",
      "language": "python",
      "name": "python3"
    },
    "language_info": {
      "codemirror_mode": {
        "name": "ipython",
        "version": 3
      },
      "file_extension": ".py",
      "mimetype": "text/x-python",
      "name": "python",
      "nbconvert_exporter": "python",
      "pygments_lexer": "ipython3",
      "version": "3.8.3"
    },
    "colab": {
      "name": "Dog Breed.ipynb",
      "provenance": [],
      "collapsed_sections": [],
      "include_colab_link": true
    }
  },
  "cells": [
    {
      "cell_type": "markdown",
      "metadata": {
        "id": "view-in-github",
        "colab_type": "text"
      },
      "source": [
        "<a href=\"https://colab.research.google.com/github/hhshanto/Dog-Breed-Identification/blob/main/Dog_Breed.ipynb\" target=\"_parent\"><img src=\"https://colab.research.google.com/assets/colab-badge.svg\" alt=\"Open In Colab\"/></a>"
      ]
    },
    {
      "cell_type": "markdown",
      "metadata": {
        "id": "iODzl5NoDQxC"
      },
      "source": [
        "# End to end multiclass dog breed classification\n",
        "This Notebook builds an end to end multiclass image classifier using TensorFlow 2.0 and TensorFlow Hub\n",
        "\n",
        "## 1. Problem\n",
        "Identifying the breed of a dog given and image of a dog.\n",
        "## 2. Data\n",
        "The data is available on Kaggle:\n",
        "https://www.kaggle.com/c/dog-breed-identification/data\n",
        "## 3. Evaluation\n",
        "Submissions are evaluated on **Multi Class Log Loss** between the predicted probability and the observed target.\n",
        "## 4. Features\n",
        "Info about data:\n",
        "* "
      ]
    },
    {
      "cell_type": "markdown",
      "metadata": {
        "id": "GX6urfyyIKuh"
      },
      "source": [
        "# Get our workspace ready"
      ]
    },
    {
      "cell_type": "code",
      "metadata": {
        "colab": {
          "base_uri": "https://localhost:8080/"
        },
        "id": "7exgo9-DDnTR",
        "outputId": "93d99943-60f2-400c-874e-b3d203d593d0"
      },
      "source": [
        " # Import tensorflow into Colab\n",
        " import tensorflow as tf\n",
        " print(\"TF version:\", tf.__version__)"
      ],
      "execution_count": 8,
      "outputs": [
        {
          "output_type": "stream",
          "text": [
            "TF version: 2.5.0\n"
          ],
          "name": "stdout"
        }
      ]
    },
    {
      "cell_type": "code",
      "metadata": {
        "id": "xse8_-m4IgyB"
      },
      "source": [
        ""
      ],
      "execution_count": null,
      "outputs": []
    }
  ]
}